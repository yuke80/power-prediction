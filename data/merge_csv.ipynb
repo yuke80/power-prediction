{
 "cells": [
  {
   "cell_type": "code",
   "execution_count": 1,
   "id": "50f64105",
   "metadata": {},
   "outputs": [],
   "source": [
    "import csv\n",
    " \n",
    "lst = []\n",
    "year = \"2017\" \n",
    "skip = 5\n",
    "with open(\"./takamatsu\" + year + \"-1.csv\", \"r\", encoding = \"cp932\") as f:    \n",
    "    reader = csv.reader(f)    \n",
    "    for csvlst in reader:        \n",
    "        lst.append(csvlst)\n",
    "with open(\"./takamatsu\" + year + \"-2.csv\", \"r\", encoding = \"cp932\") as f:    \n",
    "    reader = csv.reader(f)    \n",
    "    for n, csvlst in enumerate(reader):\n",
    "        if n+1 > skip:\n",
    "            lst.append(csvlst)\n",
    "with open(\"./takamatsu\" + year + \"-3.csv\", \"r\", encoding = \"cp932\") as f:    \n",
    "    reader = csv.reader(f)    \n",
    "    for n, csvlst in enumerate(reader):\n",
    "        if n+1 > skip:\n",
    "            lst.append(csvlst)\n",
    "with open(\"./takamatsu\" + year + \"-4.csv\", \"r\", encoding = \"cp932\") as f:    \n",
    "    reader = csv.reader(f)    \n",
    "    for n, csvlst in enumerate(reader):\n",
    "        if n+1 > skip:\n",
    "            lst.append(csvlst)\n",
    "            \n",
    "with open(\"./takamatsu\" + year + \".csv\", \"w\", encoding=\"utf-8\") as f:   \n",
    "    writer = csv.writer(f, lineterminator='\\n')  \n",
    "    writer.writerows(lst)"
   ]
  },
  {
   "cell_type": "code",
   "execution_count": null,
   "id": "aa33da3c",
   "metadata": {},
   "outputs": [],
   "source": [
    "lst"
   ]
  },
  {
   "cell_type": "code",
   "execution_count": null,
   "id": "b96b6ffa",
   "metadata": {},
   "outputs": [],
   "source": []
  }
 ],
 "metadata": {
  "kernelspec": {
   "display_name": "Python 3 (ipykernel)",
   "language": "python",
   "name": "python3"
  },
  "language_info": {
   "codemirror_mode": {
    "name": "ipython",
    "version": 3
   },
   "file_extension": ".py",
   "mimetype": "text/x-python",
   "name": "python",
   "nbconvert_exporter": "python",
   "pygments_lexer": "ipython3",
   "version": "3.9.10"
  }
 },
 "nbformat": 4,
 "nbformat_minor": 5
}
