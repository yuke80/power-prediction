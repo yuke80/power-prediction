{
 "cells": [
  {
   "cell_type": "code",
   "execution_count": null,
   "metadata": {},
   "outputs": [],
   "source": [
    "gdrive = \"/content/drive/MyDrive/Colab Notebooks/denryoku\"\n",
    " \n",
    "def set_holiday(takamatsu, year_from = \"2017\", year_to = \"2020\"):\n",
    "    holiday = pd.read_csv(\n",
    "    gdrive+'/data/syukujitsu.csv',\n",
    "    skiprows=1,\n",
    "    names=['DATE', 'HOLIDAY-NAME'],\n",
    "    parse_dates={'date': ['DATE']},\n",
    "    index_col = \"date\",\n",
    "    encoding='cp932')\n",
    " \n",
    "    holiday[\"holiday\"] = holiday.index\n",
    " \n",
    "    from_ = \"{}-01-01\".format(year_from)\n",
    "    to_ = \"{}-12-31\".format(year_to)\n",
    "    holiday_year = holiday.loc[from_: to_,\"holiday\"]\n",
    " \n",
    "    for hly in holiday_year:\n",
    "        # 祝日を日曜日(6)に設定する\n",
    "        ymd = pd.to_datetime(hly)\n",
    "        takamatsu.loc[ymd.strftime('%Y-%m-%d'),[\"dayofweek\"]]=6.0"
   ]
  }
 ],
 "metadata": {
  "language_info": {
   "name": "python"
  }
 },
 "nbformat": 4,
 "nbformat_minor": 2
}
